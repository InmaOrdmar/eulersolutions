{
 "cells": [
  {
   "cell_type": "markdown",
   "metadata": {},
   "source": [
    "# Project Euler"
   ]
  },
  {
   "cell_type": "markdown",
   "metadata": {},
   "source": [
    "## 3 - Largest prime factor"
   ]
  },
  {
   "cell_type": "markdown",
   "metadata": {},
   "source": [
    "The prime factors of 13195 are 5, 7, 13 and 29.\n",
    "\n",
    "What is the largest prime factor of the number 600851475143?"
   ]
  },
  {
   "cell_type": "code",
   "execution_count": 4,
   "metadata": {},
   "outputs": [
    {
     "data": {
      "text/plain": [
       "6857"
      ]
     },
     "execution_count": 4,
     "metadata": {},
     "output_type": "execute_result"
    }
   ],
   "source": [
    "def largest_prime_factor(n):\n",
    "    factor = 2\n",
    "    left = n\n",
    "    while left > 1:\n",
    "        if left % factor == 0:\n",
    "            left = left / factor\n",
    "        else:\n",
    "            factor += 1\n",
    "    return factor\n",
    "    \n",
    "largest_prime_factor(600851475143)"
   ]
  },
  {
   "cell_type": "markdown",
   "metadata": {},
   "source": [
    "## 4 - Largest palindrome product"
   ]
  },
  {
   "cell_type": "markdown",
   "metadata": {},
   "source": [
    "A palindromic number reads the same both ways. The largest palindrome made from the product of two 2-digit numbers is 9009 = 91 × 99.\n",
    "\n",
    "Find the largest palindrome made from the product of two 3-digit numbers."
   ]
  },
  {
   "cell_type": "code",
   "execution_count": 20,
   "metadata": {},
   "outputs": [],
   "source": [
    "def is_palindrome(text: str) -> bool:\n",
    "    \"\"\"Check if a given string is a palindrome.\"\"\"\n",
    "    for index in range(0, len(text) // 2):\n",
    "        if text[index] != text[-1 - index]:\n",
    "            return False\n",
    "    return True"
   ]
  },
  {
   "cell_type": "code",
   "execution_count": 27,
   "metadata": {},
   "outputs": [
    {
     "data": {
      "text/plain": [
       "906609"
      ]
     },
     "execution_count": 27,
     "metadata": {},
     "output_type": "execute_result"
    }
   ],
   "source": [
    "def largest_palindrome_product(n: int) -> int:\n",
    "    \"\"\"Find the largest palindrome product of two n-digit numbers.\n",
    "        Preconditions: n >= 1\n",
    "    \"\"\"\n",
    "    largest = 0\n",
    "    for a in range(10 ** (n - 1), 10 ** n):\n",
    "        for b in range(10 ** (n - 1), 10 ** n):\n",
    "            product = a * b\n",
    "            product_str = str(a * b)\n",
    "            if is_palindrome(product_str) and product > largest:\n",
    "                largest = product\n",
    "    return largest\n",
    "\n",
    "largest_palindrome_product(3)"
   ]
  },
  {
   "cell_type": "markdown",
   "metadata": {},
   "source": [
    "## 5 - Smallest multiple"
   ]
  },
  {
   "cell_type": "markdown",
   "metadata": {},
   "source": [
    "2520 is the smallest number that can be divided by each of the numbers from 1 to 10 without any remainder.\n",
    "\n",
    "What is the smallest positive number that is _evenly divisible_ by all of the numbers from 1 to 20?"
   ]
  },
  {
   "cell_type": "code",
   "execution_count": 2,
   "metadata": {},
   "outputs": [
    {
     "data": {
      "text/plain": [
       "[2, 2, 3, 3]"
      ]
     },
     "execution_count": 2,
     "metadata": {},
     "output_type": "execute_result"
    }
   ],
   "source": [
    "def prime_factors(n: int) -> list:\n",
    "    \"\"\"Return a list of prime factors of n\"\"\"\n",
    "    factors = []\n",
    "    factor = 2\n",
    "    left = n\n",
    "    while left > 1:\n",
    "        if left % factor == 0:\n",
    "            left = left / factor\n",
    "            factors.append(factor)\n",
    "        else:\n",
    "            factor += 1\n",
    "\n",
    "    return factors\n",
    "\n",
    "prime_factors(36)"
   ]
  },
  {
   "cell_type": "code",
   "execution_count": 4,
   "metadata": {},
   "outputs": [
    {
     "data": {
      "text/plain": [
       "144"
      ]
     },
     "execution_count": 4,
     "metadata": {},
     "output_type": "execute_result"
    }
   ],
   "source": [
    "def min_common_multiple(a: int, b: int) -> int:\n",
    "    \"\"\"Return mcm of a and b\"\"\"\n",
    "    factors_a = prime_factors(a)\n",
    "    factors_b = prime_factors(b)\n",
    "    \n",
    "    for factor in factors_a:\n",
    "        if factor in factors_b:\n",
    "            factors_b.remove(factor)\n",
    "    \n",
    "    mcm = a\n",
    "    for factor in factors_b:\n",
    "        mcm = mcm * factor\n",
    "    \n",
    "    return mcm\n",
    "\n",
    "min_common_multiple(36, 48)"
   ]
  },
  {
   "cell_type": "code",
   "execution_count": 9,
   "metadata": {},
   "outputs": [
    {
     "data": {
      "text/plain": [
       "232792560"
      ]
     },
     "execution_count": 9,
     "metadata": {},
     "output_type": "execute_result"
    }
   ],
   "source": [
    "def smallest_multiple(n: int) -> int:\n",
    "    \"\"\"Find the smallest positive number evenly divisible by all numbers from 1 to n.\n",
    "       Preconditions: n >= 1\n",
    "    \"\"\"\n",
    "    multiple = 1\n",
    "    for number in range(1, n + 1):\n",
    "        multiple = min_common_multiple(multiple, number)\n",
    "    \n",
    "    return multiple\n",
    "\n",
    "smallest_multiple(20)"
   ]
  },
  {
   "cell_type": "markdown",
   "metadata": {},
   "source": [
    "## 6 - Sum square difference"
   ]
  },
  {
   "cell_type": "markdown",
   "metadata": {},
   "source": [
    "The sum of the squares of the first ten natural numbers is,\n",
    "\n",
    "$1^2 + 2^2 + ... + 10^2 = 385$\n",
    "\n",
    "The square of the sum of the first ten natural numbers is,\n",
    "\n",
    "$(1 + 2 + ... + 10)^2 = 55^2 = 3025$\n",
    "\n",
    "Hence the difference between the sum of the squares of the first ten natural numbers and the square of the sum is $3025 - 385 = 2640$.\n",
    "\n",
    "Find the difference between the sum of the squares of the first one hundred natural numbers and the square of the sum."
   ]
  },
  {
   "cell_type": "code",
   "execution_count": 12,
   "metadata": {},
   "outputs": [
    {
     "data": {
      "text/plain": [
       "25164150"
      ]
     },
     "execution_count": 12,
     "metadata": {},
     "output_type": "execute_result"
    }
   ],
   "source": [
    "def square_difference(n: int) -> int:\n",
    "    \"\"\"Output the difference between the sum of the squares of the first n natural numbers\n",
    "    and the square of the sum\n",
    "    \"\"\"\n",
    "    regular_sum = 0\n",
    "    sum_of_squares = 0\n",
    "    for number in range(n + 1):\n",
    "        regular_sum = regular_sum + number\n",
    "        sum_of_squares = sum_of_squares + number ** 2\n",
    "    square_of_sum = regular_sum ** 2\n",
    "    \n",
    "    return abs(sum_of_squares - square_of_sum)\n",
    "\n",
    "square_difference(100)    "
   ]
  },
  {
   "cell_type": "markdown",
   "metadata": {},
   "source": [
    "## 7 - The 10 001st prime "
   ]
  },
  {
   "cell_type": "markdown",
   "metadata": {},
   "source": [
    "By listing the first six prime numbers: 2, 3, 5, 7, 11, and 13, we can see that the 6th prime is 13.\n",
    "\n",
    "What is the 10 001st prime number?"
   ]
  },
  {
   "cell_type": "code",
   "execution_count": 3,
   "metadata": {},
   "outputs": [
    {
     "data": {
      "text/plain": [
       "104743"
      ]
     },
     "execution_count": 3,
     "metadata": {},
     "output_type": "execute_result"
    }
   ],
   "source": [
    "def nth_prime(n: int) -> int:\n",
    "    \"\"\"Find the nth prime.\n",
    "    Preconditions: n >= 1\"\"\"\n",
    "    primes = [2]\n",
    "    number = 3\n",
    "    while len(primes) < n:\n",
    "        index = 0\n",
    "        number_is_prime = True\n",
    "        while index < len(primes) and number_is_prime:\n",
    "            if number % primes[index] == 0:\n",
    "                number_is_prime = False\n",
    "            index += 1\n",
    "        if number_is_prime:\n",
    "            primes.append(number)\n",
    "        number += 1\n",
    "    return primes[-1]\n",
    "\n",
    "nth_prime(10001)"
   ]
  }
 ],
 "metadata": {
  "kernelspec": {
   "display_name": "Python 3 (ipykernel)",
   "language": "python",
   "name": "python3"
  },
  "language_info": {
   "codemirror_mode": {
    "name": "ipython",
    "version": 3
   },
   "file_extension": ".py",
   "mimetype": "text/x-python",
   "name": "python",
   "nbconvert_exporter": "python",
   "pygments_lexer": "ipython3",
   "version": "3.9.12"
  }
 },
 "nbformat": 4,
 "nbformat_minor": 4
}
